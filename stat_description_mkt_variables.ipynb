{
 "cells": [
  {
   "cell_type": "markdown",
   "metadata": {},
   "source": [
    "# Machine Learning Volatility Modeling\n",
    "## Master's Thesis - Empirical Study \n",
    "### Università della Svizzera italiana\n",
    "\n",
    "Pietro Bonazzi - pietro.bonazzi@usi.ch\n",
    "\n",
    "Stat description mkt variables - v1"
   ]
  },
  {
   "cell_type": "code",
   "execution_count": 3,
   "metadata": {},
   "outputs": [],
   "source": [
    "import pandas as pd\n",
    "import numpy as np\n",
    "import matplotlib.pyplot as plt\n",
    "import sqlite3\n",
    "import scipy.stats as stats\n",
    "import statsmodels.api as sm\n",
    "from statsmodels.stats.diagnostic import acorr_ljungbox\n",
    "from statsmodels.tsa.stattools import adfuller"
   ]
  },
  {
   "cell_type": "code",
   "execution_count": 14,
   "metadata": {},
   "outputs": [],
   "source": [
    "con = sqlite3.connect('data.db')\n",
    "mkt_covariates_df = pd.read_sql_query(\"SELECT * from mkt_covariates\", con).set_index('date').dropna()\n",
    "mkt_covariates_df.index = pd.to_datetime(mkt_covariates_df.index)"
   ]
  },
  {
   "cell_type": "code",
   "execution_count": 23,
   "metadata": {},
   "outputs": [],
   "source": [
    "df_summary = pd.DataFrame({'count': mkt_covariates_df.count(),\n",
    "                           'mean': mkt_covariates_df.mean().round(2),\n",
    "                           'var': mkt_covariates_df.var().round(2),\n",
    "                           'sd': mkt_covariates_df.std().round(2),\n",
    "                           'min': mkt_covariates_df.min().round(2),\n",
    "                           'max': mkt_covariates_df.max().round(2),\n",
    "                           'skew': mkt_covariates_df.skew().round(2),\n",
    "                           'kurt': mkt_covariates_df.kurt().round(2),\n",
    "                           'JB stat': mkt_covariates_df.apply(lambda x: stats.jarque_bera(x)[0]).apply(lambda x: '{:.1e}'.format(x)),\n",
    "                           'JB p-val': mkt_covariates_df.apply(lambda x: stats.jarque_bera(x)[1]).round(2),\n",
    "                           'LB stat (10)': mkt_covariates_df.apply(lambda x: acorr_ljungbox(x, lags=[10])['lb_stat'][10]).round(2),\n",
    "                           'LB p-val (10)': mkt_covariates_df.apply(lambda x: acorr_ljungbox(x, lags=[10])['lb_pvalue'][10]).round(2),\n",
    "                           'ADF stat': mkt_covariates_df.apply(lambda x: adfuller(x)[0]).round(2),\n",
    "                           'ADF p-val': mkt_covariates_df.apply(lambda x: adfuller(x)[1]).round(2)\n",
    "                           })\n",
    "df_summary.index.rename('mkt variable', inplace=True)"
   ]
  },
  {
   "cell_type": "code",
   "execution_count": 24,
   "metadata": {},
   "outputs": [],
   "source": [
    "df_summary.to_latex('results_plots_tables/stat_description_mkt_covariates.tex', index=True, escape=True, float_format=\"%.2f\")"
   ]
  }
 ],
 "metadata": {
  "kernelspec": {
   "display_name": "Python_Thesis_Env",
   "language": "python",
   "name": "python3"
  },
  "language_info": {
   "codemirror_mode": {
    "name": "ipython",
    "version": 3
   },
   "file_extension": ".py",
   "mimetype": "text/x-python",
   "name": "python",
   "nbconvert_exporter": "python",
   "pygments_lexer": "ipython3",
   "version": "3.11.7"
  }
 },
 "nbformat": 4,
 "nbformat_minor": 2
}
